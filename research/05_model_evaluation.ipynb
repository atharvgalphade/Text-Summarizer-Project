{
 "cells": [
  {
   "cell_type": "code",
   "execution_count": 15,
   "metadata": {},
   "outputs": [],
   "source": [
    "import os"
   ]
  },
  {
   "cell_type": "code",
   "execution_count": 16,
   "metadata": {},
   "outputs": [
    {
     "data": {
      "text/plain": [
       "'c:\\\\Users\\\\athar\\\\Projects\\\\Natural_Language_Processing\\\\Text-Summarizer-Project\\\\research'"
      ]
     },
     "execution_count": 16,
     "metadata": {},
     "output_type": "execute_result"
    }
   ],
   "source": [
    "%pwd"
   ]
  },
  {
   "cell_type": "code",
   "execution_count": 17,
   "metadata": {},
   "outputs": [],
   "source": [
    "os.chdir(\"C:/Users/athar/Projects/Natural_Language_Processing/Text-Summarizer-Project\")"
   ]
  },
  {
   "cell_type": "code",
   "execution_count": 18,
   "metadata": {},
   "outputs": [],
   "source": [
    "from dataclasses import dataclass\n",
    "from pathlib import Path \n",
    "\n",
    "@dataclass(frozen=True)\n",
    "class ModelEvaluationConfig:\n",
    "    root_dir: Path \n",
    "    data_path: Path\n",
    "    model_path: Path\n",
    "    tokenizer_path: Path\n",
    "    metric_file_name: Path"
   ]
  },
  {
   "cell_type": "code",
   "execution_count": 19,
   "metadata": {},
   "outputs": [],
   "source": [
    "from TextSummarizer.constants import *\n",
    "from TextSummarizer.utils.common import read_yaml, create_directories"
   ]
  },
  {
   "cell_type": "code",
   "execution_count": 25,
   "metadata": {},
   "outputs": [],
   "source": [
    "class ConfigurationManager:\n",
    "    \"\"\"\n",
    "    A class to manage configuration settings for a project.\n",
    "    This class handles loading YAML configuration files, creating necessary directories,\n",
    "    and providing configuration objects for specific components of the project.\n",
    "    \"\"\"\n",
    "    \n",
    "    def __init__(\n",
    "        self,\n",
    "        config_filepath=CONFIG_FILE_PATH,  # Default path for the main configuration file\n",
    "    ):\n",
    "        \"\"\"\n",
    "        Initialize the ConfigurationManager instance.\n",
    "\n",
    "        Args:\n",
    "            config_filepath (str): Path to the main configuration file (YAML).\n",
    "        \"\"\"\n",
    "        # Load the YAML configuration files into Python dictionaries\n",
    "        self.config = read_yaml(config_filepath)\n",
    "        \n",
    "        # Log the loaded configuration for debugging purposes\n",
    "        print(\"Loaded Config:\", self.config)\n",
    "        \n",
    "        # Create the directory specified in the `artifacts_root` key of the configuration\n",
    "        create_directories([self.config.artifacts_root])\n",
    "        \n",
    "    def get_model_evaluation_config(self)->ModelEvaluationConfig:\n",
    "        config=self.config.model_evaluation\n",
    "        \n",
    "        create_directories([config.root_dir])\n",
    "        \n",
    "        model_evaluation_config=ModelEvaluationConfig(\n",
    "            root_dir= config.root_dir, \n",
    "            data_path= config.data_path,\n",
    "            model_path= config.model_path,\n",
    "            tokenizer_path= config.tokenizer_path,\n",
    "            metric_file_name= config.metric_file_name\n",
    "        )\n",
    "        \n",
    "        return model_evaluation_config\n",
    "        "
   ]
  },
  {
   "cell_type": "code",
   "execution_count": 26,
   "metadata": {},
   "outputs": [],
   "source": [
    "from transformers import AutoModelForSeq2SeqLM, AutoTokenizer\n",
    "from datasets import load_dataset,load_from_disk\n",
    "import evaluate # Used in place of load_metric from datasets. works in similar manner but load_metric is not available in latest version of datasets.\n",
    "import torch\n",
    "import pandas as pd \n",
    "from tqdm import tqdm \n"
   ]
  },
  {
   "cell_type": "code",
   "execution_count": 22,
   "metadata": {},
   "outputs": [
    {
     "name": "stdout",
     "output_type": "stream",
     "text": [
      "Requirement already satisfied: evaluate in c:\\users\\athar\\projects\\natural_language_processing\\text-summarizer-project\\tests\\lib\\site-packages (0.4.3)\n",
      "Requirement already satisfied: datasets>=2.0.0 in c:\\users\\athar\\projects\\natural_language_processing\\text-summarizer-project\\tests\\lib\\site-packages (from evaluate) (3.1.0)\n",
      "Requirement already satisfied: multiprocess in c:\\users\\athar\\projects\\natural_language_processing\\text-summarizer-project\\tests\\lib\\site-packages (from evaluate) (0.70.16)\n",
      "Requirement already satisfied: huggingface-hub>=0.7.0 in c:\\users\\athar\\projects\\natural_language_processing\\text-summarizer-project\\tests\\lib\\site-packages (from evaluate) (0.26.3)\n",
      "Requirement already satisfied: packaging in c:\\users\\athar\\projects\\natural_language_processing\\text-summarizer-project\\tests\\lib\\site-packages (from evaluate) (24.2)\n",
      "Requirement already satisfied: requests>=2.19.0 in c:\\users\\athar\\projects\\natural_language_processing\\text-summarizer-project\\tests\\lib\\site-packages (from evaluate) (2.32.3)\n",
      "Requirement already satisfied: tqdm>=4.62.1 in c:\\users\\athar\\projects\\natural_language_processing\\text-summarizer-project\\tests\\lib\\site-packages (from evaluate) (4.67.1)\n",
      "Requirement already satisfied: numpy>=1.17 in c:\\users\\athar\\projects\\natural_language_processing\\text-summarizer-project\\tests\\lib\\site-packages (from evaluate) (2.0.2)\n",
      "Requirement already satisfied: fsspec[http]>=2021.05.0 in c:\\users\\athar\\projects\\natural_language_processing\\text-summarizer-project\\tests\\lib\\site-packages (from evaluate) (2024.9.0)\n",
      "Requirement already satisfied: pandas in c:\\users\\athar\\projects\\natural_language_processing\\text-summarizer-project\\tests\\lib\\site-packages (from evaluate) (2.2.3)\n",
      "Requirement already satisfied: xxhash in c:\\users\\athar\\projects\\natural_language_processing\\text-summarizer-project\\tests\\lib\\site-packages (from evaluate) (3.5.0)\n",
      "Requirement already satisfied: dill in c:\\users\\athar\\projects\\natural_language_processing\\text-summarizer-project\\tests\\lib\\site-packages (from evaluate) (0.3.8)\n",
      "Requirement already satisfied: filelock in c:\\users\\athar\\projects\\natural_language_processing\\text-summarizer-project\\tests\\lib\\site-packages (from datasets>=2.0.0->evaluate) (3.16.1)\n",
      "Requirement already satisfied: aiohttp in c:\\users\\athar\\projects\\natural_language_processing\\text-summarizer-project\\tests\\lib\\site-packages (from datasets>=2.0.0->evaluate) (3.11.8)\n",
      "Requirement already satisfied: pyarrow>=15.0.0 in c:\\users\\athar\\projects\\natural_language_processing\\text-summarizer-project\\tests\\lib\\site-packages (from datasets>=2.0.0->evaluate) (18.1.0)\n",
      "Requirement already satisfied: pyyaml>=5.1 in c:\\users\\athar\\projects\\natural_language_processing\\text-summarizer-project\\tests\\lib\\site-packages (from datasets>=2.0.0->evaluate) (6.0.2)\n",
      "Requirement already satisfied: typing-extensions>=3.7.4.3 in c:\\users\\athar\\projects\\natural_language_processing\\text-summarizer-project\\tests\\lib\\site-packages (from huggingface-hub>=0.7.0->evaluate) (4.12.2)\n",
      "Requirement already satisfied: certifi>=2017.4.17 in c:\\users\\athar\\projects\\natural_language_processing\\text-summarizer-project\\tests\\lib\\site-packages (from requests>=2.19.0->evaluate) (2024.8.30)\n",
      "Requirement already satisfied: idna<4,>=2.5 in c:\\users\\athar\\projects\\natural_language_processing\\text-summarizer-project\\tests\\lib\\site-packages (from requests>=2.19.0->evaluate) (3.10)\n",
      "Requirement already satisfied: charset-normalizer<4,>=2 in c:\\users\\athar\\projects\\natural_language_processing\\text-summarizer-project\\tests\\lib\\site-packages (from requests>=2.19.0->evaluate) (3.4.0)\n",
      "Requirement already satisfied: urllib3<3,>=1.21.1 in c:\\users\\athar\\projects\\natural_language_processing\\text-summarizer-project\\tests\\lib\\site-packages (from requests>=2.19.0->evaluate) (1.26.20)\n",
      "Requirement already satisfied: colorama in c:\\users\\athar\\projects\\natural_language_processing\\text-summarizer-project\\tests\\lib\\site-packages (from tqdm>=4.62.1->evaluate) (0.4.6)\n",
      "Requirement already satisfied: python-dateutil>=2.8.2 in c:\\users\\athar\\projects\\natural_language_processing\\text-summarizer-project\\tests\\lib\\site-packages (from pandas->evaluate) (2.9.0.post0)\n",
      "Requirement already satisfied: tzdata>=2022.7 in c:\\users\\athar\\projects\\natural_language_processing\\text-summarizer-project\\tests\\lib\\site-packages (from pandas->evaluate) (2024.2)\n",
      "Requirement already satisfied: pytz>=2020.1 in c:\\users\\athar\\projects\\natural_language_processing\\text-summarizer-project\\tests\\lib\\site-packages (from pandas->evaluate) (2024.2)\n",
      "Requirement already satisfied: async-timeout<6.0,>=4.0 in c:\\users\\athar\\projects\\natural_language_processing\\text-summarizer-project\\tests\\lib\\site-packages (from aiohttp->datasets>=2.0.0->evaluate) (5.0.1)\n",
      "Requirement already satisfied: propcache>=0.2.0 in c:\\users\\athar\\projects\\natural_language_processing\\text-summarizer-project\\tests\\lib\\site-packages (from aiohttp->datasets>=2.0.0->evaluate) (0.2.0)\n",
      "Requirement already satisfied: multidict<7.0,>=4.5 in c:\\users\\athar\\projects\\natural_language_processing\\text-summarizer-project\\tests\\lib\\site-packages (from aiohttp->datasets>=2.0.0->evaluate) (6.1.0)\n",
      "Requirement already satisfied: frozenlist>=1.1.1 in c:\\users\\athar\\projects\\natural_language_processing\\text-summarizer-project\\tests\\lib\\site-packages (from aiohttp->datasets>=2.0.0->evaluate) (1.5.0)\n",
      "Requirement already satisfied: attrs>=17.3.0 in c:\\users\\athar\\projects\\natural_language_processing\\text-summarizer-project\\tests\\lib\\site-packages (from aiohttp->datasets>=2.0.0->evaluate) (24.2.0)\n",
      "Requirement already satisfied: aiohappyeyeballs>=2.3.0 in c:\\users\\athar\\projects\\natural_language_processing\\text-summarizer-project\\tests\\lib\\site-packages (from aiohttp->datasets>=2.0.0->evaluate) (2.4.3)\n",
      "Requirement already satisfied: aiosignal>=1.1.2 in c:\\users\\athar\\projects\\natural_language_processing\\text-summarizer-project\\tests\\lib\\site-packages (from aiohttp->datasets>=2.0.0->evaluate) (1.3.1)\n",
      "Requirement already satisfied: yarl<2.0,>=1.17.0 in c:\\users\\athar\\projects\\natural_language_processing\\text-summarizer-project\\tests\\lib\\site-packages (from aiohttp->datasets>=2.0.0->evaluate) (1.18.0)\n",
      "Requirement already satisfied: six>=1.5 in c:\\users\\athar\\projects\\natural_language_processing\\text-summarizer-project\\tests\\lib\\site-packages (from python-dateutil>=2.8.2->pandas->evaluate) (1.16.0)\n",
      "Note: you may need to restart the kernel to use updated packages.\n"
     ]
    },
    {
     "name": "stderr",
     "output_type": "stream",
     "text": [
      "WARNING: You are using pip version 22.0.4; however, version 25.0 is available.\n",
      "You should consider upgrading via the 'c:\\Users\\athar\\Projects\\Natural_Language_Processing\\Text-Summarizer-Project\\testS\\Scripts\\python.exe -m pip install --upgrade pip' command.\n"
     ]
    }
   ],
   "source": [
    "pip install evaluate"
   ]
  },
  {
   "cell_type": "code",
   "execution_count": 69,
   "metadata": {},
   "outputs": [],
   "source": [
    "class ModelEvaluation:\n",
    "    def __init__(self,config:ModelEvaluationConfig):\n",
    "        self.config=config\n",
    "    \n",
    "    def generate_batch_sized_chunks(self,list_of_elements, batch_size):\n",
    "        \"\"\"\n",
    "        Splits a list into smaller chunks of the specified batch size.\n",
    "\n",
    "        Args:\n",
    "            list_of_elements (list): The list to split into chunks.\n",
    "            batch_size (int): The size of each chunk.\n",
    "\n",
    "        Yields:\n",
    "            list: A chunk of the list with length equal to batch_size.\n",
    "        \"\"\"\n",
    "        for i in range(0, len(list_of_elements), batch_size):\n",
    "            yield list_of_elements[i:i+batch_size]\n",
    "\n",
    "    # Function to evaluate the model on the test dataset and compute a given metric\n",
    "    def calculate_metric_on_test_ds(self,dataset, metric, model, tokenizer,\n",
    "                                    batch_size=16, device=\"cuda\" if torch.cuda.is_available() else \"cpu\",\n",
    "                                    column_text='article',\n",
    "                                    column_summary='highlights'):\n",
    "        \"\"\"\n",
    "        Evaluates a summarization model on a test dataset and calculates the given metric.\n",
    "\n",
    "        Args:\n",
    "            dataset (Dataset): The dataset containing articles and reference summaries.\n",
    "            metric (Metric): The metric to compute (e.g., ROUGE, BLEU).\n",
    "            model (PreTrainedModel): The trained summarization model.\n",
    "            tokenizer (PreTrainedTokenizer): The tokenizer for encoding and decoding text.\n",
    "            batch_size (int): The number of samples to process at once. Default is 16.\n",
    "            device (torch.device): The device (CPU/GPU) for model computation.\n",
    "            column_text (str): The column name in the dataset containing the input text (articles).\n",
    "            column_summary (str): The column name in the dataset containing reference summaries.\n",
    "\n",
    "        Returns:\n",
    "            dict: The computed metric scores.\n",
    "        \"\"\"\n",
    "        # Split the input articles into batches of size `batch_size`\n",
    "        article_batches = list(self.generate_batch_sized_chunks(dataset[column_text], batch_size))\n",
    "        # Split the target summaries into batches of size `batch_size`\n",
    "        target_batches = list(self.generate_batch_sized_chunks(dataset[column_summary], batch_size))\n",
    "\n",
    "        # Loop through each batch of articles and their corresponding summaries\n",
    "        for article_batch, target_batch in tqdm(\n",
    "                zip(article_batches, target_batches), total=len(article_batches)):\n",
    "\n",
    "            # Tokenize the batch of articles\n",
    "            inputs = tokenizer(article_batch,\n",
    "                            max_length=1024,  # Maximum length of input sequences\n",
    "                            truncation=True,  # Truncate input sequences longer than max_length\n",
    "                            padding='max_length',  # Pad input sequences to max_length\n",
    "                            return_tensors='pt')  # Return PyTorch tensors\n",
    "\n",
    "            # Generate summaries using the model\n",
    "            summaries = model.generate(\n",
    "                input_ids=inputs[\"input_ids\"].to(device),  # Move input IDs to the specified device\n",
    "                attention_mask=inputs[\"attention_mask\"].to(device),  # Move attention mask to device\n",
    "                length_penalty=0.8,  # Encourage shorter summaries (lower length penalty)\n",
    "                num_beams=8,  # Use beam search with 8 beams for better summaries\n",
    "                max_length=128  # Maximum length of generated summaries\n",
    "            )\n",
    "\n",
    "            # Decode the generated summaries into text\n",
    "            decoded_summaries = [\n",
    "                tokenizer.decode(s,\n",
    "                                skip_special_tokens=True,  # Remove special tokens (e.g., <s>, </s>)\n",
    "                                clean_up_tokenization_spaces=True)  # Clean up spaces in decoded text\n",
    "                for s in summaries\n",
    "            ]\n",
    "\n",
    "            # Replace empty strings in decoded summaries with a single space (clean-up step)\n",
    "            decoded_summaries = [d.replace(\"\", \" \") for d in decoded_summaries]\n",
    "\n",
    "            # Add the predictions and reference summaries to the metric for evaluation\n",
    "            metric.add_batch(predictions=decoded_summaries, references=target_batch)\n",
    "\n",
    "        # Compute the metric scores (e.g., ROUGE scores)\n",
    "        score = metric.compute()\n",
    "        return score\n",
    "    \n",
    "    def evaluate(self):\n",
    "        device=\"cuda\" if torch.cuda.is_available() else \"cpu\"\n",
    "        tokenizer=AutoTokenizer.from_pretrained(self.config.tokenizer_path)\n",
    "        model_pegasus=AutoModelForSeq2SeqLM.from_pretrained(self.config.model_path).to(device)\n",
    "        \n",
    "        dataset_samsum_pt=load_from_disk(self.config.data_path)\n",
    "        batch_size=16\n",
    "        rouge_names=[\"rouge1\",\"rouge2\",\"rougeL\",\"rougeLsum\"]\n",
    "        rouge_metric=evaluate.load('rouge')\n",
    "        \n",
    "        score=self.calculate_metric_on_test_ds(\n",
    "            dataset_samsum_pt['test'][0:10], rouge_metric, model_pegasus, tokenizer, batch_size, column_text='dialogue', column_summary='summary'\n",
    "        )\n",
    "\n",
    "        rouge_dict=dict((rn, score[rn]) for rn in rouge_names)\n",
    "\n",
    "        df=pd.DataFrame(rouge_dict, index=[f'pegasus'])\n",
    "        df.to_csv(self.config.metric_file_name,index=False)\n",
    "        "
   ]
  },
  {
   "cell_type": "code",
   "execution_count": 70,
   "metadata": {},
   "outputs": [
    {
     "name": "stdout",
     "output_type": "stream",
     "text": [
      "[2025-02-10 17:47:15,778: INFO: common: yaml file:config\\config.yaml  loaded successfully]\n",
      "Loaded Config: {'artifacts_root': 'artifacts', 'data_ingestion': {'root_dir': 'artifacts/data_ingestion', 'source_URL': 'https://github.com/entbappy/Branching-tutorial/raw/master/summarizer-data.zip', 'local_data_file': 'artifacts/data_ingestion/data.zip', 'unzip_dir': 'artifacts/data_ingestion'}, 'data_validation': {'root_dir': 'artifacts/data_validation', 'STATUS_FILE': 'artifacts/data_validation/status.txt', 'ALL_REQUIRED_FILES': ['train', 'test', 'validation']}, 'data_transformation': {'root_dir': 'artifacts/data_transformation', 'data_path': 'artifacts/data_ingestion/samsum_dataset', 'tokenizer_name': 'google/pegasus-cnn_dailymail'}, 'model_trainer': {'root_dir': 'artifacts/model_trainer', 'data_path': 'artifacts/data_transformation/samsum_dataset', 'model_ckpt': 'google/pegasus-cnn_dailymail'}, 'model_evaluation': {'root_dir': 'artifacts/model_evaluation', 'data_path': 'artifacts/data_transformation/samsum_dataset', 'model_path': 'artifacts/model_trainer/pegasus-samsum-model', 'tokenizer_path': 'artifacts/model_trainer/tokenizer', 'metric_file_name': 'artifacts/model_evaluation/metrics.csv'}}\n",
      "[2025-02-10 17:47:15,780: INFO: common: created directory at: artifacts]\n",
      "[2025-02-10 17:47:15,781: INFO: common: created directory at: artifacts/model_evaluation]\n"
     ]
    },
    {
     "name": "stderr",
     "output_type": "stream",
     "text": [
      "100%|██████████| 1/1 [14:43<00:00, 883.91s/it]\n"
     ]
    },
    {
     "name": "stdout",
     "output_type": "stream",
     "text": [
      "[2025-02-10 18:02:04,366: INFO: rouge_scorer: Using default tokenizer.]\n"
     ]
    }
   ],
   "source": [
    "try:\n",
    "    config= ConfigurationManager()\n",
    "    model_evaluation_config=config.get_model_evaluation_config()\n",
    "    model_evaluation_config=ModelEvaluation(config=model_evaluation_config)\n",
    "    model_evaluation_config.evaluate()\n",
    "except Exception as e:\n",
    "    raise e"
   ]
  }
 ],
 "metadata": {
  "kernelspec": {
   "display_name": "testS",
   "language": "python",
   "name": "python3"
  },
  "language_info": {
   "codemirror_mode": {
    "name": "ipython",
    "version": 3
   },
   "file_extension": ".py",
   "mimetype": "text/x-python",
   "name": "python",
   "nbconvert_exporter": "python",
   "pygments_lexer": "ipython3",
   "version": "3.9.11"
  }
 },
 "nbformat": 4,
 "nbformat_minor": 2
}
