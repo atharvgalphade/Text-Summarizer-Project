{
 "cells": [
  {
   "cell_type": "code",
   "execution_count": 2,
   "metadata": {},
   "outputs": [],
   "source": [
    "import os"
   ]
  },
  {
   "cell_type": "code",
   "execution_count": 3,
   "metadata": {},
   "outputs": [
    {
     "data": {
      "text/plain": [
       "'c:\\\\Users\\\\athar\\\\Projects\\\\Natural_Language_Processing\\\\Text-Summarizer-Project\\\\research'"
      ]
     },
     "execution_count": 3,
     "metadata": {},
     "output_type": "execute_result"
    }
   ],
   "source": [
    "%pwd"
   ]
  },
  {
   "cell_type": "code",
   "execution_count": 4,
   "metadata": {},
   "outputs": [],
   "source": [
    "os.chdir(\"C:/Users/athar/Projects/Natural_Language_Processing/Text-Summarizer-Project\")"
   ]
  },
  {
   "cell_type": "code",
   "execution_count": 5,
   "metadata": {},
   "outputs": [],
   "source": [
    "from dataclasses import dataclass\n",
    "from pathlib import Path\n",
    "\n",
    "@dataclass(frozen=True)\n",
    "class DataValidationConfig:\n",
    "    root_dir: Path\n",
    "    STATUS_FILE: str\n",
    "    ALL_REQUIRED_FILES: list"
   ]
  },
  {
   "cell_type": "code",
   "execution_count": 6,
   "metadata": {},
   "outputs": [],
   "source": [
    "from TextSummarizer.constants import *\n",
    "from TextSummarizer.utils.common import read_yaml, create_directories"
   ]
  },
  {
   "cell_type": "code",
   "execution_count": 7,
   "metadata": {},
   "outputs": [],
   "source": [
    "class ConfigurationManager:\n",
    "    \"\"\"\n",
    "    A class to manage configuration settings for a project.\n",
    "    This class handles loading YAML configuration files, creating necessary directories,\n",
    "    and providing configuration objects for specific components of the project.\n",
    "    \"\"\"\n",
    "    \n",
    "    def __init__(\n",
    "        self,\n",
    "        config_filepath=CONFIG_FILE_PATH,  # Default path for the main configuration file\n",
    "        params_filepath=PARAMS_FILE_PATH  # Default path for the parameters file\n",
    "    ):\n",
    "        \"\"\"\n",
    "        Initialize the ConfigurationManager instance.\n",
    "\n",
    "        Args:\n",
    "            config_filepath (str): Path to the main configuration file (YAML).\n",
    "            params_filepath (str): Path to the parameters file (YAML).\n",
    "        \"\"\"\n",
    "        # Load the YAML configuration files into Python dictionaries\n",
    "        self.config = read_yaml(config_filepath)\n",
    "        self.params = read_yaml(params_filepath)\n",
    "        \n",
    "        # Log the loaded configuration for debugging purposes\n",
    "        print(\"Loaded Config:\", self.config)\n",
    "        \n",
    "        # Create the directory specified in the `artifacts_root` key of the configuration\n",
    "        create_directories([self.config.artifacts_root])\n",
    "\n",
    "    def get_data_validation_config(self) -> DataValidationConfig:\n",
    "        \"\"\"\n",
    "        Retrieve and prepare the data validation configuration.\n",
    "\n",
    "        This method creates the necessary directories for data validation and initializes\n",
    "        a `DataValidationConfig` object.\n",
    "\n",
    "        Returns:\n",
    "            DataValidationConfig: An instance containing data validation configuration details.\n",
    "        \"\"\"\n",
    "        # Access the `data_validation` section of the configuration\n",
    "        config = self.config.data_validation\n",
    "        \n",
    "        # Create the root directory for data validation if it doesn't already exist\n",
    "        create_directories([config.root_dir])\n",
    "        \n",
    "        # Initialize and return a DataValidationConfig object with necessary parameters\n",
    "        data_validation_config = DataValidationConfig(\n",
    "            root_dir=config.root_dir,             # Root directory for data validation\n",
    "            STATUS_FILE=config.STATUS_FILE,      # Status file name\n",
    "            ALL_REQUIRED_FILES=config.ALL_REQUIRED_FILES  # List of required files\n",
    "        )\n",
    "        return data_validation_config"
   ]
  },
  {
   "cell_type": "code",
   "execution_count": 9,
   "metadata": {},
   "outputs": [],
   "source": [
    "import os\n",
    "from TextSummarizer.logging import logger"
   ]
  },
  {
   "cell_type": "code",
   "execution_count": 13,
   "metadata": {},
   "outputs": [],
   "source": [
    "class DataValidation:\n",
    "    def __init__(self,config: DataValidationConfig):\n",
    "        self.config=config\n",
    "        \n",
    "    def validate_all_files_exists(self)-> bool:\n",
    "        try:\n",
    "            validation_status=None\n",
    "            all_files= os.listdir(os.path.join(\"artifacts\",\"data_ingestion\",\"samsum_dataset\"))\n",
    "            \n",
    "            for file in all_files:\n",
    "                if file not in self.config.ALL_REQUIRED_FILES:\n",
    "                    validation_status=False\n",
    "                    with open(self.config.STATUS_FILE,'w') as f:\n",
    "                        f.write(f\"Validation Status: {validation_status}\")\n",
    "                else:\n",
    "                    validation_status=True\n",
    "                    with open(self.config.STATUS_FILE,'w') as f:\n",
    "                        f.write(f\"Validation Status: {validation_status}\")\n",
    "            \n",
    "            return validation_status\n",
    "        \n",
    "        except Exception as e:\n",
    "            raise e"
   ]
  },
  {
   "cell_type": "code",
   "execution_count": 14,
   "metadata": {},
   "outputs": [
    {
     "name": "stdout",
     "output_type": "stream",
     "text": [
      "[2025-01-28 18:14:43,748: INFO: common: yaml file:config\\config.yaml  loaded successfully]\n",
      "[2025-01-28 18:14:43,752: INFO: common: yaml file:params.yaml  loaded successfully]\n",
      "Loaded Config: {'artifacts_root': 'artifacts', 'data_ingestion': {'root_dir': 'artifacts/data_ingestion', 'source_URL': 'https://github.com/entbappy/Branching-tutorial/raw/master/summarizer-data.zip', 'local_data_file': 'artifacts/data_ingestion/data.zip', 'unzip_dir': 'artifacts/data_ingestion'}, 'data_validation': {'root_dir': 'artifacts/data_validation', 'STATUS_FILE': 'artifacts/data_validation/status.txt', 'ALL_REQUIRED_FILES': ['train', 'test', 'validation']}}\n",
      "[2025-01-28 18:14:43,753: INFO: common: created directory at: artifacts]\n",
      "[2025-01-28 18:14:43,755: INFO: common: created directory at: artifacts/data_validation]\n"
     ]
    }
   ],
   "source": [
    "try:\n",
    "    config=ConfigurationManager()\n",
    "    data_validation_config=config.get_data_validation_config()\n",
    "    data_validation=DataValidation(config=data_validation_config)\n",
    "    data_validation.validate_all_files_exists()\n",
    "except Exception as e:\n",
    "    raise e"
   ]
  },
  {
   "cell_type": "code",
   "execution_count": null,
   "metadata": {},
   "outputs": [],
   "source": []
  }
 ],
 "metadata": {
  "kernelspec": {
   "display_name": "testS",
   "language": "python",
   "name": "python3"
  },
  "language_info": {
   "codemirror_mode": {
    "name": "ipython",
    "version": 3
   },
   "file_extension": ".py",
   "mimetype": "text/x-python",
   "name": "python",
   "nbconvert_exporter": "python",
   "pygments_lexer": "ipython3",
   "version": "3.9.11"
  }
 },
 "nbformat": 4,
 "nbformat_minor": 2
}
