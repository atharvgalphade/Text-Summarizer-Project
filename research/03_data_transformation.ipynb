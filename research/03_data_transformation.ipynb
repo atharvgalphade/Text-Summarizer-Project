{
 "cells": [
  {
   "cell_type": "code",
   "execution_count": 9,
   "metadata": {},
   "outputs": [],
   "source": [
    "import os"
   ]
  },
  {
   "cell_type": "code",
   "execution_count": 10,
   "metadata": {},
   "outputs": [
    {
     "data": {
      "text/plain": [
       "'C:\\\\Users\\\\athar\\\\Projects\\\\Natural_Language_Processing\\\\Text-Summarizer-Project'"
      ]
     },
     "execution_count": 10,
     "metadata": {},
     "output_type": "execute_result"
    }
   ],
   "source": [
    "%pwd"
   ]
  },
  {
   "cell_type": "code",
   "execution_count": 11,
   "metadata": {},
   "outputs": [],
   "source": [
    "os.chdir(\"C:/Users/athar/Projects/Natural_Language_Processing/Text-Summarizer-Project\")"
   ]
  },
  {
   "cell_type": "code",
   "execution_count": 12,
   "metadata": {},
   "outputs": [],
   "source": [
    "from dataclasses import dataclass\n",
    "from pathlib import Path \n",
    "\n",
    "@dataclass(frozen=True)\n",
    "class DataTransformationConfig:\n",
    "    root_dir: Path\n",
    "    data_path: Path \n",
    "    tokenizer_name: Path  \n",
    "    "
   ]
  },
  {
   "cell_type": "code",
   "execution_count": 13,
   "metadata": {},
   "outputs": [],
   "source": [
    "from TextSummarizer.constants import *\n",
    "from TextSummarizer.utils.common import read_yaml, create_directories"
   ]
  },
  {
   "cell_type": "code",
   "execution_count": 14,
   "metadata": {},
   "outputs": [],
   "source": [
    "class ConfigurationManager:\n",
    "    \"\"\"\n",
    "    A class to manage configuration settings for a project.\n",
    "    This class handles loading YAML configuration files, creating necessary directories,\n",
    "    and providing configuration objects for specific components of the project.\n",
    "    \"\"\"\n",
    "    \n",
    "    def __init__(\n",
    "        self,\n",
    "        config_filepath=CONFIG_FILE_PATH,  # Default path for the main configuration file\n",
    "        params_filepath=PARAMS_FILE_PATH  # Default path for the parameters file\n",
    "    ):\n",
    "        \"\"\"\n",
    "        Initialize the ConfigurationManager instance.\n",
    "\n",
    "        Args:\n",
    "            config_filepath (str): Path to the main configuration file (YAML).\n",
    "            params_filepath (str): Path to the parameters file (YAML).\n",
    "        \"\"\"\n",
    "        # Load the YAML configuration files into Python dictionaries\n",
    "        self.config = read_yaml(config_filepath)\n",
    "        self.params = read_yaml(params_filepath)\n",
    "        \n",
    "        # Log the loaded configuration for debugging purposes\n",
    "        print(\"Loaded Config:\", self.config)\n",
    "        \n",
    "        # Create the directory specified in the `artifacts_root` key of the configuration\n",
    "        create_directories([self.config.artifacts_root])\n",
    "        \n",
    "    def get_data_transformation_config(self)-> DataTransformationConfig:\n",
    "        config=self.config.data_transformation\n",
    "        \n",
    "        create_directories([config.root_dir])\n",
    "        \n",
    "        data_transformation_config= DataTransformationConfig(\n",
    "            root_dir=config.root_dir,\n",
    "            data_path=config.data_path,\n",
    "            tokenizer_name=config.tokenizer_name\n",
    "        )\n",
    "        \n",
    "        return data_transformation_config"
   ]
  },
  {
   "cell_type": "code",
   "execution_count": 16,
   "metadata": {},
   "outputs": [],
   "source": [
    "import os\n",
    "from TextSummarizer.logging import logger\n",
    "from transformers import AutoTokenizer\n",
    "from datasets import load_dataset,load_from_disk"
   ]
  },
  {
   "cell_type": "code",
   "execution_count": 17,
   "metadata": {},
   "outputs": [],
   "source": [
    "class DataTransformation:\n",
    "    def __init__(self, config=DataTransformationConfig):\n",
    "        # We are initializing this helper with some settings (config).\n",
    "        # These settings tell us where the data is, and which tokenizer to use.\n",
    "        self.config = config\n",
    "        \n",
    "        # We are using a special \"tokenizer\" to break text into smaller pieces (tokens).\n",
    "        # It's like cutting big sentences into words or tiny understandable bits.\n",
    "        self.tokenizer = AutoTokenizer.from_pretrained(config.tokenizer_name)\n",
    "\n",
    "        \n",
    "    def convert_examples_to_features(self, example_batch):\n",
    "        # Here, we take one small group (batch) of data, with dialogues and summaries.\n",
    "\n",
    "        # We break the dialogues into tokens (pieces of text) so the machine can understand it.\n",
    "        # max_length=1024 means we don’t allow dialogues to be too long.\n",
    "        input_encodings = self.tokenizer(\n",
    "            example_batch['dialogue'], \n",
    "            max_length=1024, \n",
    "            truncation=True\n",
    "        )\n",
    "        \n",
    "        # Now we break the summaries into tokens too. Summaries are shorter, so max_length=128.\n",
    "        # We tell the tokenizer, \"You are now cutting text for answers (targets).\"\n",
    "        with self.tokenizer.as_target_tokenizer():\n",
    "            target_encodings = self.tokenizer(\n",
    "                example_batch['summary'], \n",
    "                max_length=128, \n",
    "                truncation=True\n",
    "            )\n",
    "        \n",
    "        # We return the \"ingredients\" needed for the model: input_ids, attention_masks, and labels.\n",
    "        # - input_ids: Numbers that represent the words in the dialogue.\n",
    "        # - attention_mask: Helps the machine know which words to focus on.\n",
    "        # - labels: Numbers that represent the words in the summary.\n",
    "        return {\n",
    "            'input_ids': input_encodings['input_ids'],\n",
    "            'attention_mask': input_encodings['attention_mask'],\n",
    "            'labels': target_encodings['input_ids']\n",
    "        }\n",
    "\n",
    "    \n",
    "    \n",
    "    def convert(self):\n",
    "        # Load the entire dataset from the disk.\n",
    "        # It’s like opening a box of data that has all the dialogues and summaries.\n",
    "        dataset_samsum = load_from_disk(self.config.data_path)\n",
    "        \n",
    "        # Use the function above (convert_examples_to_features) to process each group of data.\n",
    "        # 'map' means we apply the function to all the batches in the dataset.\n",
    "        dataset_samsum_pt = dataset_samsum.map(self.convert_examples_to_features, batched=True)\n",
    "        \n",
    "        # Save the processed data back to disk for later use.\n",
    "        # We create a new folder inside the root directory called \"samsum_dataset\".\n",
    "        dataset_samsum_pt.save_to_disk(\n",
    "            os.path.join(self.config.root_dir, \"samsum_dataset\")\n",
    "        )\n"
   ]
  },
  {
   "cell_type": "code",
   "execution_count": 18,
   "metadata": {},
   "outputs": [
    {
     "name": "stdout",
     "output_type": "stream",
     "text": [
      "[2025-01-28 19:52:04,449: INFO: common: yaml file:config\\config.yaml  loaded successfully]\n",
      "[2025-01-28 19:52:04,451: INFO: common: yaml file:params.yaml  loaded successfully]\n",
      "Loaded Config: {'artifacts_root': 'artifacts', 'data_ingestion': {'root_dir': 'artifacts/data_ingestion', 'source_URL': 'https://github.com/entbappy/Branching-tutorial/raw/master/summarizer-data.zip', 'local_data_file': 'artifacts/data_ingestion/data.zip', 'unzip_dir': 'artifacts/data_ingestion'}, 'data_validation': {'root_dir': 'artifacts/data_validation', 'STATUS_FILE': 'artifacts/data_validation/status.txt', 'ALL_REQUIRED_FILES': ['train', 'test', 'validation']}, 'data_transformation': {'root_dir': 'artifacts/data_transformation', 'data_path': 'artifacts/data_ingestion/samsum_dataset', 'tokenizer_name': 'google/pegasus-cnn_dailymail'}}\n",
      "[2025-01-28 19:52:04,454: INFO: common: created directory at: artifacts]\n",
      "[2025-01-28 19:52:04,456: INFO: common: created directory at: artifacts/data_transformation]\n"
     ]
    },
    {
     "name": "stderr",
     "output_type": "stream",
     "text": [
      "c:\\Users\\athar\\Projects\\Natural_Language_Processing\\Text-Summarizer-Project\\testS\\lib\\site-packages\\huggingface_hub\\file_download.py:139: UserWarning: `huggingface_hub` cache-system uses symlinks by default to efficiently store duplicated files but your machine does not support them in C:\\Users\\athar\\.cache\\huggingface\\hub\\models--google--pegasus-cnn_dailymail. Caching files will still work but in a degraded version that might require more space on your disk. This warning can be disabled by setting the `HF_HUB_DISABLE_SYMLINKS_WARNING` environment variable. For more details, see https://huggingface.co/docs/huggingface_hub/how-to-cache#limitations.\n",
      "To support symlinks on Windows, you either need to activate Developer Mode or to run Python as an administrator. In order to activate developer mode, see this article: https://docs.microsoft.com/en-us/windows/apps/get-started/enable-your-device-for-development\n",
      "  warnings.warn(message)\n",
      "Map:   0%|          | 0/14732 [00:00<?, ? examples/s]c:\\Users\\athar\\Projects\\Natural_Language_Processing\\Text-Summarizer-Project\\testS\\lib\\site-packages\\transformers\\tokenization_utils_base.py:4114: UserWarning: `as_target_tokenizer` is deprecated and will be removed in v5 of Transformers. You can tokenize your labels by using the argument `text_target` of the regular `__call__` method (either in the same call as your input texts if you use the same keyword arguments, or in a separate call.\n",
      "  warnings.warn(\n",
      "Map: 100%|██████████| 14732/14732 [00:03<00:00, 3964.73 examples/s]\n",
      "Map: 100%|██████████| 819/819 [00:00<00:00, 3135.39 examples/s]\n",
      "Map: 100%|██████████| 818/818 [00:00<00:00, 3581.17 examples/s]\n",
      "Saving the dataset (1/1 shards): 100%|██████████| 14732/14732 [00:00<00:00, 249167.24 examples/s]\n",
      "Saving the dataset (1/1 shards): 100%|██████████| 819/819 [00:00<00:00, 68214.29 examples/s]\n",
      "Saving the dataset (1/1 shards): 100%|██████████| 818/818 [00:00<00:00, 65124.25 examples/s]\n"
     ]
    }
   ],
   "source": [
    "try:\n",
    "    config=ConfigurationManager()\n",
    "    data_transformation_config= config.get_data_transformation_config()\n",
    "    data_transformation=DataTransformation(config=data_transformation_config)\n",
    "    data_transformation.convert()\n",
    "except Exception as e:\n",
    "    raise e"
   ]
  },
  {
   "cell_type": "code",
   "execution_count": null,
   "metadata": {},
   "outputs": [],
   "source": []
  }
 ],
 "metadata": {
  "kernelspec": {
   "display_name": "testS",
   "language": "python",
   "name": "python3"
  },
  "language_info": {
   "codemirror_mode": {
    "name": "ipython",
    "version": 3
   },
   "file_extension": ".py",
   "mimetype": "text/x-python",
   "name": "python",
   "nbconvert_exporter": "python",
   "pygments_lexer": "ipython3",
   "version": "3.9.11"
  }
 },
 "nbformat": 4,
 "nbformat_minor": 2
}
